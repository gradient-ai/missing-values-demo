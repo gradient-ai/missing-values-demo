{
 "cells": [
  {
   "cell_type": "code",
   "execution_count": null,
   "metadata": {},
   "outputs": [],
   "source": [
    "# Importing the necessary libraries\n",
    "\n",
    "import pandas as pd\n",
    "import numpy as np\n",
    "\n",
    "# Loading the dataset\n",
    "# Here, we're reading a CSV file named 'titanic.csv' and selecting only the \n",
    "\n",
    "'Age', 'Fare', and 'Survived' columns.\n",
    "df = pd.read_csv(\"titanic.csv\", usecols=['Age','Fare','Survived'])\n",
    "\n",
    "# Displaying the DataFrame\n",
    "df\n",
    "\n",
    "# Checking for missing values in each column\n",
    "df.isnull().sum()\n",
    "\n",
    "# Filling missing 'Age' values with the mean age\n",
    "# This line replaces all NaN (Not a Number) values in the 'Age' column with the mean (average) age.\n",
    "\n",
    "df['Age'].fillna(df['Age'].mean(), inplace = True)\n",
    "\n",
    "# Filling missing 'Age' values with the median age\n",
    "# This line is redundant after the previous fillna, as there should be no NaN values left to replace.\n",
    "# If there were, it would replace them with the median age.\n",
    "\n",
    "df['Age'].fillna(df['Age'].median(), inplace = True)\n",
    "\n",
    "# Filling missing 'Age' values with the mode\n",
    "# This line is also redundant after the first fillna. It would replace NaN values with the mode (most frequent value).\n",
    "\n",
    "df['Age'].fillna(df['Age'].mode(), inplace = True)\n",
    "\n",
    "# Forward filling of missing values\n",
    "# This replaces NaN values in the DataFrame with the previous non-null value along the column.\n",
    "# If the first value is NaN, it remains NaN.\n",
    "\n",
    "df.ffill(inplace=True)\n",
    "\n",
    "# Backward filling of missing values\n",
    "# This replaces NaN values with the next non-null value along the column.\n",
    "# If the last value is NaN, it remains NaN.\n",
    "\n",
    "df.bfill(inplace=True)"
   ]
  }
 ],
 "metadata": {
  "language_info": {
   "name": "python"
  }
 },
 "nbformat": 4,
 "nbformat_minor": 2
}
